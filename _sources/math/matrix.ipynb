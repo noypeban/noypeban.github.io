{
 "cells": [
  {
   "cell_type": "markdown",
   "id": "89fa59bc",
   "metadata": {},
   "source": [
    "# 行列\n",
    "\n",
    "## 行列の掛け算\n",
    "\n",
    "$$\n",
    "A = \\begin{pmatrix}\n",
    "a & b \\\\\n",
    "c & d \\\\\n",
    "\\end{pmatrix}\\\\\n",
    "B = \\begin{pmatrix}\n",
    "e\\\\\n",
    "f\\\\\n",
    "\\end{pmatrix}\n",
    "\\\\\n",
    "A \\cdot B = \\begin{pmatrix}\n",
    "a*e + b*f\\\\\n",
    "c*e+d*f\\\\\n",
    "\\end{pmatrix}\n",
    "$$\n",
    "\n",
    "```python\n",
    "x = np.array([1,2])\n",
    "w = np.array([[4,8],[6,3]])\n",
    "x.dot(w)\n",
    "# array([16,14])\n",
    "```\n",
    "\n",
    "```{note}\n",
    "- 計算できる条件：Aの列数=Bの行数\n",
    "- 結果.shape=(前の行数, 後ろの列数)\n",
    "```\n",
    "\n",
    "## 行列式\n",
    "$$\n",
    "A =\n",
    "\\begin{pmatrix}\n",
    "a&b\\\\\n",
    "c&d\n",
    "\\end{pmatrix}の時、Aの行列式を\\\\\n",
    "\\det A、 |A|、\n",
    "\\begin{vmatrix}\n",
    "a&b\\\\\n",
    "c&d\n",
    "\\end{vmatrix}と表し、\\\\\n",
    "|A|=a*d-b*c\n",
    "$$\n",
    "\n",
    "### 求め方\n",
    "#### 2x2行列\n",
    "$$\n",
    "\\begin{vmatrix}\n",
    "a&b\\\\\n",
    "c&d\n",
    "\\end{vmatrix}\n",
    "=a*d-b*c\n",
    "$$\n",
    "\n",
    "#### 3x3行列(サラスの公式)\n",
    "$$\n",
    "\\begin{vmatrix}\n",
    "a_{11} & a_{12} & a_{13}\\\\\n",
    "a_{21} & a_{22} & a_{23}\\\\\n",
    "a_{31} & a_{32} & a_{33}\n",
    "\\end{vmatrix}\\\\\n",
    "=a_{11} a_{22} a_{33}+a_{12} a_{23}a_{31}+a_{13}a_{32}a_{21}\\\\\n",
    "-a_{13}a_{22} a_{31}\n",
    "-a_{12}a_{21}a_{33}\n",
    "-a_{11}a_{32} a_{23}\n",
    "$$\n",
    "\n",
    "```python\n",
    "np.linalg.det(A)\n",
    "```\n",
    "\n",
    "### 交換性\n",
    "行列の2列を入れ替えた場合、または2行を入れ替えた場合、行列式は元の行列式の-1倍になる。\n",
    "\n",
    "$$\n",
    "\\begin{vmatrix}\n",
    "a_{11} & a_{12} & a_{13}\\\\\n",
    "a_{21} & a_{22} & a_{23}\\\\\n",
    "a_{31} & a_{32} & a_{33}\n",
    "\\end{vmatrix}\n",
    "=\n",
    "-\n",
    "\\begin{vmatrix}\n",
    "a_{21} & a_{22} & a_{23}\\\\\n",
    "a_{11} & a_{12} & a_{13}\\\\\n",
    "a_{31} & a_{32} & a_{33}\n",
    "\\end{vmatrix}\n",
    "$$\n",
    "\n",
    "## 逆行列\n",
    "$A^{-1} \\cdot A = E$を満たす$A^{-1}$を$A$の逆行列という。\n",
    "\n",
    "ただし、行列式$|A|=0$の時は$A$は逆行列を持たない。\n",
    "\n",
    "### 求め方\n",
    "#### 2x2行列の逆行列\n",
    "2x2の行列$A=\\begin{pmatrix}a&b\\\\c&d\\end{pmatrix}$の逆行列は\n",
    "$$\n",
    "A^{-1} = \\frac{1}{ad-bc}\n",
    "\\begin{pmatrix}\n",
    "d&-b\\\\\n",
    "-c&a\n",
    "\\end{pmatrix}\n",
    "$$\n",
    "\n",
    "#### 掃き出し法\n",
    "\n",
    "#### numpy\n",
    "```python\n",
    "import numpy as np\n",
    "import numpy.linalg as LA\n",
    "\n",
    "A = np.array([[3,5],[2,-2]])\n",
    "LA.inv(A)\n",
    "#=>array([[ 0.125 ,  0.3125],\n",
    "#       [ 0.125 , -0.1875]])\n",
    "```\n",
    "\n",
    "## 固有値・固有値ベクトル\n",
    "あるn次正方行列$A$に対し、\n",
    "\n",
    "$$Ax = \\lambda x$$\n",
    "\n",
    "を満たすn次元ベクトル$x (x \\neq 0)$が存在する時、\n",
    "\n",
    "$$\n",
    "\\lambda : Aの固有値\\\\\n",
    "x : \\lambdaに対する固有ベクトル\n",
    "$$\n",
    "と言う\n",
    "\n",
    "### 求め方\n",
    "#### 固有値\n",
    "$$\n",
    "Ax = \\lambda xを満たすx,\\lambdaを求める\\\\\n",
    "単位ベクトルEを使い変形すると\\\\\n",
    "(A-\\lambda E)=0\\\\\n",
    "すなわち\\\\\n",
    "|A-\\lambda E|=0\\\\\n",
    "を考える\n",
    "$$\n",
    "#### 固有ベクトル\n",
    "$$\n",
    "\\lambda = \\lambda_1, \\lambda_2, \\dots を代入して、\\\\\n",
    "(A-\\lambda_i E)x=0\\\\\n",
    "を満たすx_iを求める。\n",
    "$$\n",
    "\n",
    "例：\n",
    "\n",
    "$$\n",
    "\\begin{pmatrix}3&2&0\\\\0&2&0\\\\0&0&1\\end{pmatrix}の固有値、固有ベクトルは？\n",
    "$$\n",
    "\n",
    "$$\n",
    "\\begin{pmatrix}3-\\lambda & 2 & 0\\\\\n",
    "0 & 2 - \\lambda & 0\\\\\n",
    "0 & 0 & 1-\\lambda\n",
    "\\end{pmatrix}=0\n",
    "$$\n",
    "\n",
    "$$\n",
    "(3-\\lambda)(2-\\lambda)(1-\\lambda)=0\\\\\n",
    "\\therefore \\lambda=3,2,1\n",
    "$$\n",
    "\n",
    "固有ベクトルは、\n",
    "\n",
    "1. $\\lambda=1$の時\n",
    "\n",
    "$$\n",
    "(A-\\lambda_1 E)x=0\\\\\n",
    "\\begin{pmatrix}\n",
    "3-1 & 2 & 0\\\\\n",
    "0 & 2-1 & 0\\\\\n",
    "0 & 0 & 1-1\n",
    "\\end{pmatrix}\n",
    "\\begin{pmatrix}\n",
    "x_1\\\\\n",
    "x_2\\\\\n",
    "x_3\n",
    "\\end{pmatrix}\n",
    "=0\\\\\n",
    "\n",
    "\\begin{cases}\n",
    "2x_1+2x_2=0\t\\therefore x_1=-x_2\\\\\n",
    "x_2=0\t\\therefore x_2=0\\\\\n",
    "0=0\\\\\n",
    "\\end{cases}\\\\\n",
    "\\therefore \\lambda=1の時、固有値は\n",
    "\\begin{pmatrix}\n",
    "0\\\\0\\\\1\n",
    "\\end{pmatrix}\n",
    "の定数倍\n",
    "$$\n",
    "\n",
    "2. $\\lambda=2$の時\n",
    "\n",
    "$$\n",
    "(A- 2 E)x=0\\\\\n",
    "\\begin{pmatrix}\n",
    "3-2 & 2 & 0\\\\\n",
    "0 & 2-2 & 0\\\\\n",
    "0 & 0 & 1-2\n",
    "\\end{pmatrix}\n",
    "\\begin{pmatrix}\n",
    "x_1\\\\\n",
    "x_2\\\\\n",
    "x_3\n",
    "\\end{pmatrix}\n",
    "=0\\\\\n",
    "\n",
    "\\begin{cases}\n",
    "x_1+2x_2=0\t\\therefore x_1=-2x_2\\\\\n",
    "0=0\\\\\n",
    "-x_3=0 \t\\therefore x_3=0\\\\\n",
    "\\end{cases}\\\\\n",
    "任意の定数Sを用いると\\\\\n",
    "\n",
    "\\begin{pmatrix}\n",
    "x_1\\\\\n",
    "x_2\\\\\n",
    "x_3\\\\\n",
    "\\end{pmatrix}\n",
    "=\n",
    "\\begin{pmatrix}\n",
    "-2S\\\\\n",
    "S\\\\\n",
    "0\\\\\n",
    "\\end{pmatrix}\n",
    "=S\n",
    "\\begin{pmatrix}\n",
    "-2\\\\\n",
    "1\\\\\n",
    "0\\\\\n",
    "\\end{pmatrix}\n",
    "\\\\\n",
    "\n",
    "\\therefore \\lambda=2の時、固有値は\n",
    "\\begin{pmatrix}\n",
    "-2\\\\1\\\\0\n",
    "\\end{pmatrix}\n",
    "の定数倍\n",
    "$$\n",
    "\n",
    "3. $\\lambda=3$の時\n",
    "\n",
    "$$\n",
    "(A- 3E)x=0\\\\\n",
    "\\begin{pmatrix}\n",
    "3-3 & 2 & 0\\\\\n",
    "0 & 2-3 & 0\\\\\n",
    "0 & 0 & 1-3\n",
    "\\end{pmatrix}\n",
    "\\begin{pmatrix}\n",
    "x_1\\\\\n",
    "x_2\\\\\n",
    "x_3\n",
    "\\end{pmatrix}\n",
    "=0\\\\\n",
    "\n",
    "\\begin{cases}\n",
    "2x_2=0\t\\therefore x_2=0\\\\\n",
    "-x_2=0\\\\\n",
    "-2x_3=0 \t\\therefore x_3=0\\\\\n",
    "\\end{cases}\\\\\n",
    "\n",
    "\\therefore \\lambda=3の時、固有値は\n",
    "\\begin{pmatrix}\n",
    "1\\\\0\\\\0\n",
    "\\end{pmatrix}\n",
    "の定数倍\n",
    "$$\n",
    "\n",
    "### numpy\n",
    "```python\n",
    "import numpy as np\n",
    "import numpy.linalg as LA\n",
    "\n",
    "A = np.array([\n",
    "\t[3, 2, 0],\n",
    "\t[0, 2, 0],\n",
    "\t[0, 0, 1]\n",
    "])\n",
    "w, v = LA.eig(A)\n",
    "# 固有値\n",
    "print(w)\n",
    "#array([3., 2., 1.])\n",
    "# 固有ベクトル; 縦に見る\n",
    "print(v)\n",
    "#array([[ 1.        , -0.89442719,  0.        ],\n",
    "#       [ 0.        ,  0.4472136 ,  0.        ],\n",
    "#       [ 0.        ,  0.        ,  1.        ]])\n",
    "```\n",
    "\n",
    "## 固有値分解\n",
    "\n",
    "正方行列$A$を、\n",
    "- 固有値を対角線上に並べた固有値行列$\\Lambda$と\n",
    "- 固有ベクトルを並べた行列$V$\n",
    "を使ってこのように表すこと\n",
    "\n",
    "$$A=V \\Lambda V^{-1}$$\n",
    "\n",
    "### 求め方\n",
    "#### numpy\n",
    "\n",
    "```python\n",
    "import numpy as np\n",
    "import numpy.linalg as LA\n",
    "\n",
    "A = np.array([\n",
    "\t[3, 2, 0],\n",
    "\t[0, 2, 0],\n",
    "\t[0, 0, 1]\n",
    "])\n",
    "w, v = LA.eig(A)\n",
    "\n",
    "# 固有値\n",
    "print(w)\n",
    "#array([3., 2., 1.])\n",
    "\n",
    "# 固有値ベクトル\n",
    "Q = np.diag(w)\n",
    "print(Q)\n",
    "#array([[3., 0., 0.],\n",
    "#       [0., 2., 0.],\n",
    "#       [0., 0., 1.]])\n",
    "\n",
    "# 固有ベクトル\n",
    "print(v)\n",
    "#array([[ 1.        , -0.89442719,  0.        ],\n",
    "#       [ 0.        ,  0.4472136 ,  0.        ],\n",
    "#       [ 0.        ,  0.        ,  1.        ]])\n",
    "\n",
    "# 固有ベクトル（右）\n",
    "R = LA.inv(v) # 逆行列を得る\n",
    "print(R)\n",
    "#array([[1.        , 2.        , 0.        ],\n",
    "#       [0.        , 2.23606798, 0.        ],\n",
    "#       [0.        , 0.        , 1.        ]])\n",
    "```\n",
    "numpyで得らた結果を使ってAを固有値分解すると、\n",
    "\n",
    "$$\n",
    "A=vQR=\n",
    "\\begin{pmatrix}\n",
    "1 & -2 & 0\\\\\n",
    "0 & 1 & 0\\\\\n",
    "0 & 0 & 1\n",
    "\\end{pmatrix}\n",
    "\\begin{pmatrix}\n",
    "3 & 0 & 0\\\\\n",
    "0 & 2 & 0\\\\\n",
    "0 & 0 & 1\n",
    "\\end{pmatrix}\n",
    "\\begin{pmatrix}\n",
    "1 & 2 & 0\\\\\n",
    "0 & \\sqrt{5} & 0\\\\\n",
    "0 & 0 & 1\n",
    "\\end{pmatrix}\n",
    "$$\n",
    "\n",
    "\n",
    "## 対角化\n",
    "\n",
    "正方行列$A$を、\n",
    "- 固有値を対角線上に並べた固有値行列$\\Lambda$と\n",
    "- 固有ベクトルを並べた行列$V$\n",
    "を使ってこのように変形すること\n",
    "\n",
    "$$\\Lambda = V^{-1}AV$$\n",
    "\n",
    "### 対角化のメリット\n",
    "- 計算が楽になる\n",
    "\n",
    "### 対角化可能\n",
    "\n",
    "次数と同じ数の固有ベクトルが互いに一次独立\n",
    "\n",
    "### 例\n",
    "\n",
    "$X=\\begin{pmatrix}3&1\\\\2&2\\end{pmatrix}$のn乗は？"
   ]
  },
  {
   "cell_type": "code",
   "execution_count": 1,
   "id": "6fc6b91e",
   "metadata": {},
   "outputs": [
    {
     "data": {
      "text/plain": [
       "array([4., 1.])"
      ]
     },
     "execution_count": 1,
     "metadata": {},
     "output_type": "execute_result"
    }
   ],
   "source": [
    "import numpy as np\n",
    "import numpy.linalg as LA\n",
    "A = np.array([\n",
    "\t[3,1],\n",
    "\t[2,2]\n",
    "\t])\n",
    "w,v=LA.eig(A)\n",
    "w"
   ]
  },
  {
   "cell_type": "markdown",
   "id": "bd33a5f3",
   "metadata": {},
   "source": [
    "Aを対角化した物がD"
   ]
  },
  {
   "cell_type": "code",
   "execution_count": 2,
   "id": "bbaa6d94",
   "metadata": {},
   "outputs": [
    {
     "data": {
      "text/plain": [
       "array([[4., 0.],\n",
       "       [0., 1.]])"
      ]
     },
     "execution_count": 2,
     "metadata": {},
     "output_type": "execute_result"
    }
   ],
   "source": [
    "D=np.diag(w)\n",
    "D"
   ]
  },
  {
   "cell_type": "code",
   "execution_count": 3,
   "id": "9850baec",
   "metadata": {},
   "outputs": [
    {
     "data": {
      "text/plain": [
       "array([[ 0.70710678, -0.4472136 ],\n",
       "       [ 0.70710678,  0.89442719]])"
      ]
     },
     "execution_count": 3,
     "metadata": {},
     "output_type": "execute_result"
    }
   ],
   "source": [
    "v"
   ]
  },
  {
   "cell_type": "markdown",
   "id": "36d3adf8",
   "metadata": {},
   "source": [
    "vの整数倍であれば問題ない。計算しやすいように、縦の要素毎にきりの良い数字に変換する\n",
    "\n",
    "$$\n",
    "V=\\begin{pmatrix}\n",
    "1 & 1\\\\\n",
    "1 & -2\n",
    "\\end{pmatrix}\n",
    "$$"
   ]
  },
  {
   "cell_type": "code",
   "execution_count": 4,
   "id": "3c58875c",
   "metadata": {},
   "outputs": [
    {
     "data": {
      "text/plain": [
       "array([[[ 0.66666667,  0.33333333],\n",
       "        [ 0.33333333, -0.33333333]]])"
      ]
     },
     "execution_count": 4,
     "metadata": {},
     "output_type": "execute_result"
    }
   ],
   "source": [
    "# 整数化したv\n",
    "V = np.array([[\n",
    "\t[1, 1],\n",
    "\t[1, -2]\n",
    "]])\n",
    "\n",
    "# 逆行列を求めるコマンド\n",
    "V1 = LA.inv(V)\n",
    "V1"
   ]
  },
  {
   "cell_type": "markdown",
   "id": "a01d354f",
   "metadata": {},
   "source": [
    "$V^{-1}$の変換は行列全体に対して係数を掛ける方法っぽい\n",
    "\n",
    "$$\n",
    "V^{-1}=\n",
    "\\dfrac{1}{3}\n",
    "\\begin{pmatrix}\n",
    "2 & 1\\\\\n",
    "1 & -1\n",
    "\\end{pmatrix}\n",
    "$$"
   ]
  },
  {
   "cell_type": "code",
   "execution_count": 5,
   "id": "54f5cd80",
   "metadata": {},
   "outputs": [
    {
     "data": {
      "text/plain": [
       "array([[[3., 1.],\n",
       "        [2., 2.]]])"
      ]
     },
     "execution_count": 5,
     "metadata": {},
     "output_type": "execute_result"
    }
   ],
   "source": [
    "# 検算\n",
    "V1 = np.array([\n",
    "\t[2, 1],\n",
    "\t[1, -1]\n",
    "])\n",
    "\n",
    "1/3 * V @ D @ V1"
   ]
  },
  {
   "cell_type": "markdown",
   "id": "ffa77639",
   "metadata": {},
   "source": [
    "$$\n",
    "A=V \\Lambda V^{-1}\\\\\n",
    "=\n",
    "\\frac{1}{3}\n",
    "\\begin{pmatrix}\n",
    "1&1\\\\\n",
    "1&-2\n",
    "\\end{pmatrix}\n",
    "\\begin{pmatrix}\n",
    "4&0\\\\\n",
    "0&1\n",
    "\\end{pmatrix}\n",
    "\\begin{pmatrix}\n",
    "2&1\\\\\n",
    "1&-1\n",
    "\\end{pmatrix}\n",
    "\\\\\n",
    "A^n =V \\Lambda^n V^{-1}\\\\\n",
    "=\n",
    "\\frac{1}{3}\n",
    "\\begin{pmatrix}\n",
    "1&1\\\\\n",
    "1&-2\n",
    "\\end{pmatrix}\n",
    "\\begin{pmatrix}\n",
    "4&0\\\\\n",
    "0&1\n",
    "\\end{pmatrix}^n\n",
    "\\begin{pmatrix}\n",
    "2&1\\\\\n",
    "1&-1\n",
    "\\end{pmatrix}\\\\\n",
    "=\n",
    "\\frac{1}{3}\n",
    "\\begin{pmatrix}\n",
    "1&1\\\\\n",
    "1&-2\n",
    "\\end{pmatrix}\n",
    "\\begin{pmatrix}\n",
    "4^n&0\\\\\n",
    "0&1^n\n",
    "\\end{pmatrix}\n",
    "\\begin{pmatrix}\n",
    "2&1\\\\\n",
    "1&-1\n",
    "\\end{pmatrix}\\\\\n",
    "=\\frac{1}{3}\n",
    "\\begin{pmatrix}\n",
    "4^n\t & 1\\\\\n",
    "4^n & -2\n",
    "\\end{pmatrix}\n",
    "\\begin{pmatrix}\n",
    "2&1\\\\\n",
    "1&-1\n",
    "\\end{pmatrix}\\\\\n",
    "=\\frac{1}{3}\n",
    "\\begin{pmatrix}\n",
    "2*4^n+1 & 4^n-1\\\\\n",
    "2*4^n-2 & 4^n+2\n",
    "\\end{pmatrix}\n",
    "\n",
    "$$\n",
    "\n",
    "\n",
    "## 特異値分解\n",
    "\n",
    "Singular Value Decomposition SVD\n",
    ": 次元削減のために用いられる手法\n",
    "= 長方形行列の固有値分解\n",
    "\n",
    "### 手順\n",
    "任意の行列$A$を$A=USV^T$に特異値分解してみる\n",
    "\n",
    "$$\n",
    "A = \\begin{pmatrix}\n",
    "1&2&3\\\\\n",
    "3&2&1\n",
    "\\end{pmatrix}\n",
    "$$"
   ]
  },
  {
   "cell_type": "code",
   "execution_count": 6,
   "id": "2c449214",
   "metadata": {},
   "outputs": [
    {
     "data": {
      "text/plain": [
       "array([[14, 10],\n",
       "       [10, 14]])"
      ]
     },
     "execution_count": 6,
     "metadata": {},
     "output_type": "execute_result"
    }
   ],
   "source": [
    "# linalgモジュールはLAとしてimportする\n",
    "import numpy as np\n",
    "import numpy.linalg as LA\n",
    "\n",
    "# 行列Aを定義する\n",
    "a = np.array([\n",
    "              [1,2,3],\n",
    "              [3,2,1]\n",
    "])\n",
    "\n",
    "# AA^Tを求める\n",
    "AAT = np.dot(a, a.T)\n",
    "AAT"
   ]
  },
  {
   "cell_type": "code",
   "execution_count": 7,
   "id": "b747c56c",
   "metadata": {},
   "outputs": [
    {
     "data": {
      "text/plain": [
       "array([[-0.70710678, -0.70710678],\n",
       "       [-0.70710678,  0.70710678]])"
      ]
     },
     "execution_count": 7,
     "metadata": {},
     "output_type": "execute_result"
    }
   ],
   "source": [
    "# 特異値分解のコマンド\n",
    "U, S, Vt = LA.svd(a, full_matrices=True)\n",
    "# 左特異値行列\n",
    "U"
   ]
  },
  {
   "cell_type": "code",
   "execution_count": 8,
   "id": "a0c1cca1",
   "metadata": {},
   "outputs": [
    {
     "data": {
      "text/plain": [
       "array([4.89897949, 2.        ])"
      ]
     },
     "execution_count": 8,
     "metadata": {},
     "output_type": "execute_result"
    }
   ],
   "source": [
    "# 特異値\n",
    "S"
   ]
  },
  {
   "cell_type": "code",
   "execution_count": 9,
   "id": "60476b0e",
   "metadata": {},
   "outputs": [
    {
     "data": {
      "text/plain": [
       "array([[4.89897949, 0.        ],\n",
       "       [0.        , 2.        ]])"
      ]
     },
     "execution_count": 9,
     "metadata": {},
     "output_type": "execute_result"
    }
   ],
   "source": [
    "# 対角行列にする\n",
    "S = np.diag(S)\n",
    "S"
   ]
  },
  {
   "cell_type": "code",
   "execution_count": 10,
   "id": "d5f15bab",
   "metadata": {},
   "outputs": [
    {
     "data": {
      "text/plain": [
       "array([[-5.77350269e-01, -5.77350269e-01, -5.77350269e-01],\n",
       "       [ 7.07106781e-01,  1.65486686e-16, -7.07106781e-01],\n",
       "       [ 4.08248290e-01, -8.16496581e-01,  4.08248290e-01]])"
      ]
     },
     "execution_count": 10,
     "metadata": {},
     "output_type": "execute_result"
    }
   ],
   "source": [
    "# 左特異値行列の転地\n",
    "Vt"
   ]
  },
  {
   "cell_type": "code",
   "execution_count": 11,
   "id": "39364a87",
   "metadata": {},
   "outputs": [
    {
     "data": {
      "text/plain": [
       "array([[4.89897949, 0.        , 0.        ],\n",
       "       [0.        , 2.        , 0.        ]])"
      ]
     },
     "execution_count": 11,
     "metadata": {},
     "output_type": "execute_result"
    }
   ],
   "source": [
    "# shapeをそろえる\n",
    "S2 = np.pad(S, ((0, 0), (0, 1)))\n",
    "S2"
   ]
  },
  {
   "cell_type": "code",
   "execution_count": 12,
   "id": "b6b7cc7b",
   "metadata": {},
   "outputs": [
    {
     "data": {
      "text/plain": [
       "array([[1., 2., 3.],\n",
       "       [3., 2., 1.]])"
      ]
     },
     "execution_count": 12,
     "metadata": {},
     "output_type": "execute_result"
    }
   ],
   "source": [
    "# 検算\n",
    "U @ S2 @ Vt"
   ]
  },
  {
   "cell_type": "markdown",
   "id": "7a8f5ce0",
   "metadata": {},
   "source": [
    "よって、\n",
    "\n",
    "$$ U =  \\begin{pmatrix}\n",
    "- \\dfrac{1}{\\sqrt{2}} &\n",
    "- \\dfrac{1}{\\sqrt{2}}\\\\\n",
    "- \\dfrac{1}{\\sqrt{2}} &\n",
    "\\dfrac{1}{\\sqrt{2}}\n",
    "\\end{pmatrix}\n",
    "$$\n",
    "\n",
    "$$\n",
    "S=\\begin{pmatrix}\n",
    "2\\sqrt{6} & 0 &0\\\\\n",
    "0 & 2 & 0\n",
    "\\end{pmatrix}\n",
    "$$\n",
    "\n",
    "$$ V^T =  \\begin{pmatrix}\n",
    "\\dfrac{1}{\\sqrt{3}} &\n",
    "\\dfrac{1}{\\sqrt{3}} &\n",
    "\\dfrac{1}{\\sqrt{3}} \\\\\n",
    "- \\dfrac{1}{\\sqrt{2}} &\n",
    "0 &\n",
    "\\dfrac{1}{\\sqrt{2}}\\\\\n",
    "\\dfrac{1}{\\sqrt{6}} &\n",
    "-\\dfrac{2}{\\sqrt{6}} &\n",
    "\\dfrac{1}{\\sqrt{6}} &\n",
    "\\end{pmatrix}\n",
    "$$"
   ]
  }
 ],
 "metadata": {
  "jupytext": {
   "formats": "md:myst",
   "text_representation": {
    "extension": ".md",
    "format_name": "myst"
   }
  },
  "kernelspec": {
   "display_name": "Python 3",
   "language": "python",
   "name": "python3"
  },
  "language_info": {
   "codemirror_mode": {
    "name": "ipython",
    "version": 3
   },
   "file_extension": ".py",
   "mimetype": "text/x-python",
   "name": "python",
   "nbconvert_exporter": "python",
   "pygments_lexer": "ipython3",
   "version": "3.7.13"
  },
  "source_map": [
   11,
   400,
   409,
   413,
   418,
   420,
   431,
   441,
   454,
   462,
   545,
   561,
   568,
   573,
   579,
   584,
   590,
   593
  ]
 },
 "nbformat": 4,
 "nbformat_minor": 5
}